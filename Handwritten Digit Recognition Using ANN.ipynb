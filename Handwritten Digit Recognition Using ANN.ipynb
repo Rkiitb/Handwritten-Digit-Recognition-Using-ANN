{
 "cells": [
  {
   "cell_type": "code",
   "execution_count": 270,
   "id": "18a98abb-25d4-4ed8-9a44-8fad67d243b3",
   "metadata": {},
   "outputs": [],
   "source": [
    "import pandas as pd\n",
    "import numpy as np"
   ]
  },
  {
   "cell_type": "code",
   "execution_count": 271,
   "id": "fd683089-6ca2-46bc-81e3-97a9def7b4c8",
   "metadata": {},
   "outputs": [
    {
     "data": {
      "text/html": [
       "<div>\n",
       "<style scoped>\n",
       "    .dataframe tbody tr th:only-of-type {\n",
       "        vertical-align: middle;\n",
       "    }\n",
       "\n",
       "    .dataframe tbody tr th {\n",
       "        vertical-align: top;\n",
       "    }\n",
       "\n",
       "    .dataframe thead th {\n",
       "        text-align: right;\n",
       "    }\n",
       "</style>\n",
       "<table border=\"1\" class=\"dataframe\">\n",
       "  <thead>\n",
       "    <tr style=\"text-align: right;\">\n",
       "      <th></th>\n",
       "      <th>label</th>\n",
       "      <th>pixel0</th>\n",
       "      <th>pixel1</th>\n",
       "      <th>pixel2</th>\n",
       "      <th>pixel3</th>\n",
       "      <th>pixel4</th>\n",
       "      <th>pixel5</th>\n",
       "      <th>pixel6</th>\n",
       "      <th>pixel7</th>\n",
       "      <th>pixel8</th>\n",
       "      <th>...</th>\n",
       "      <th>pixel774</th>\n",
       "      <th>pixel775</th>\n",
       "      <th>pixel776</th>\n",
       "      <th>pixel777</th>\n",
       "      <th>pixel778</th>\n",
       "      <th>pixel779</th>\n",
       "      <th>pixel780</th>\n",
       "      <th>pixel781</th>\n",
       "      <th>pixel782</th>\n",
       "      <th>pixel783</th>\n",
       "    </tr>\n",
       "  </thead>\n",
       "  <tbody>\n",
       "    <tr>\n",
       "      <th>0</th>\n",
       "      <td>1</td>\n",
       "      <td>0</td>\n",
       "      <td>0</td>\n",
       "      <td>0</td>\n",
       "      <td>0</td>\n",
       "      <td>0</td>\n",
       "      <td>0</td>\n",
       "      <td>0</td>\n",
       "      <td>0</td>\n",
       "      <td>0</td>\n",
       "      <td>...</td>\n",
       "      <td>0</td>\n",
       "      <td>0</td>\n",
       "      <td>0</td>\n",
       "      <td>0</td>\n",
       "      <td>0</td>\n",
       "      <td>0</td>\n",
       "      <td>0</td>\n",
       "      <td>0</td>\n",
       "      <td>0</td>\n",
       "      <td>0</td>\n",
       "    </tr>\n",
       "    <tr>\n",
       "      <th>1</th>\n",
       "      <td>0</td>\n",
       "      <td>0</td>\n",
       "      <td>0</td>\n",
       "      <td>0</td>\n",
       "      <td>0</td>\n",
       "      <td>0</td>\n",
       "      <td>0</td>\n",
       "      <td>0</td>\n",
       "      <td>0</td>\n",
       "      <td>0</td>\n",
       "      <td>...</td>\n",
       "      <td>0</td>\n",
       "      <td>0</td>\n",
       "      <td>0</td>\n",
       "      <td>0</td>\n",
       "      <td>0</td>\n",
       "      <td>0</td>\n",
       "      <td>0</td>\n",
       "      <td>0</td>\n",
       "      <td>0</td>\n",
       "      <td>0</td>\n",
       "    </tr>\n",
       "    <tr>\n",
       "      <th>2</th>\n",
       "      <td>1</td>\n",
       "      <td>0</td>\n",
       "      <td>0</td>\n",
       "      <td>0</td>\n",
       "      <td>0</td>\n",
       "      <td>0</td>\n",
       "      <td>0</td>\n",
       "      <td>0</td>\n",
       "      <td>0</td>\n",
       "      <td>0</td>\n",
       "      <td>...</td>\n",
       "      <td>0</td>\n",
       "      <td>0</td>\n",
       "      <td>0</td>\n",
       "      <td>0</td>\n",
       "      <td>0</td>\n",
       "      <td>0</td>\n",
       "      <td>0</td>\n",
       "      <td>0</td>\n",
       "      <td>0</td>\n",
       "      <td>0</td>\n",
       "    </tr>\n",
       "    <tr>\n",
       "      <th>3</th>\n",
       "      <td>4</td>\n",
       "      <td>0</td>\n",
       "      <td>0</td>\n",
       "      <td>0</td>\n",
       "      <td>0</td>\n",
       "      <td>0</td>\n",
       "      <td>0</td>\n",
       "      <td>0</td>\n",
       "      <td>0</td>\n",
       "      <td>0</td>\n",
       "      <td>...</td>\n",
       "      <td>0</td>\n",
       "      <td>0</td>\n",
       "      <td>0</td>\n",
       "      <td>0</td>\n",
       "      <td>0</td>\n",
       "      <td>0</td>\n",
       "      <td>0</td>\n",
       "      <td>0</td>\n",
       "      <td>0</td>\n",
       "      <td>0</td>\n",
       "    </tr>\n",
       "    <tr>\n",
       "      <th>4</th>\n",
       "      <td>0</td>\n",
       "      <td>0</td>\n",
       "      <td>0</td>\n",
       "      <td>0</td>\n",
       "      <td>0</td>\n",
       "      <td>0</td>\n",
       "      <td>0</td>\n",
       "      <td>0</td>\n",
       "      <td>0</td>\n",
       "      <td>0</td>\n",
       "      <td>...</td>\n",
       "      <td>0</td>\n",
       "      <td>0</td>\n",
       "      <td>0</td>\n",
       "      <td>0</td>\n",
       "      <td>0</td>\n",
       "      <td>0</td>\n",
       "      <td>0</td>\n",
       "      <td>0</td>\n",
       "      <td>0</td>\n",
       "      <td>0</td>\n",
       "    </tr>\n",
       "    <tr>\n",
       "      <th>...</th>\n",
       "      <td>...</td>\n",
       "      <td>...</td>\n",
       "      <td>...</td>\n",
       "      <td>...</td>\n",
       "      <td>...</td>\n",
       "      <td>...</td>\n",
       "      <td>...</td>\n",
       "      <td>...</td>\n",
       "      <td>...</td>\n",
       "      <td>...</td>\n",
       "      <td>...</td>\n",
       "      <td>...</td>\n",
       "      <td>...</td>\n",
       "      <td>...</td>\n",
       "      <td>...</td>\n",
       "      <td>...</td>\n",
       "      <td>...</td>\n",
       "      <td>...</td>\n",
       "      <td>...</td>\n",
       "      <td>...</td>\n",
       "      <td>...</td>\n",
       "    </tr>\n",
       "    <tr>\n",
       "      <th>41995</th>\n",
       "      <td>0</td>\n",
       "      <td>0</td>\n",
       "      <td>0</td>\n",
       "      <td>0</td>\n",
       "      <td>0</td>\n",
       "      <td>0</td>\n",
       "      <td>0</td>\n",
       "      <td>0</td>\n",
       "      <td>0</td>\n",
       "      <td>0</td>\n",
       "      <td>...</td>\n",
       "      <td>0</td>\n",
       "      <td>0</td>\n",
       "      <td>0</td>\n",
       "      <td>0</td>\n",
       "      <td>0</td>\n",
       "      <td>0</td>\n",
       "      <td>0</td>\n",
       "      <td>0</td>\n",
       "      <td>0</td>\n",
       "      <td>0</td>\n",
       "    </tr>\n",
       "    <tr>\n",
       "      <th>41996</th>\n",
       "      <td>1</td>\n",
       "      <td>0</td>\n",
       "      <td>0</td>\n",
       "      <td>0</td>\n",
       "      <td>0</td>\n",
       "      <td>0</td>\n",
       "      <td>0</td>\n",
       "      <td>0</td>\n",
       "      <td>0</td>\n",
       "      <td>0</td>\n",
       "      <td>...</td>\n",
       "      <td>0</td>\n",
       "      <td>0</td>\n",
       "      <td>0</td>\n",
       "      <td>0</td>\n",
       "      <td>0</td>\n",
       "      <td>0</td>\n",
       "      <td>0</td>\n",
       "      <td>0</td>\n",
       "      <td>0</td>\n",
       "      <td>0</td>\n",
       "    </tr>\n",
       "    <tr>\n",
       "      <th>41997</th>\n",
       "      <td>7</td>\n",
       "      <td>0</td>\n",
       "      <td>0</td>\n",
       "      <td>0</td>\n",
       "      <td>0</td>\n",
       "      <td>0</td>\n",
       "      <td>0</td>\n",
       "      <td>0</td>\n",
       "      <td>0</td>\n",
       "      <td>0</td>\n",
       "      <td>...</td>\n",
       "      <td>0</td>\n",
       "      <td>0</td>\n",
       "      <td>0</td>\n",
       "      <td>0</td>\n",
       "      <td>0</td>\n",
       "      <td>0</td>\n",
       "      <td>0</td>\n",
       "      <td>0</td>\n",
       "      <td>0</td>\n",
       "      <td>0</td>\n",
       "    </tr>\n",
       "    <tr>\n",
       "      <th>41998</th>\n",
       "      <td>6</td>\n",
       "      <td>0</td>\n",
       "      <td>0</td>\n",
       "      <td>0</td>\n",
       "      <td>0</td>\n",
       "      <td>0</td>\n",
       "      <td>0</td>\n",
       "      <td>0</td>\n",
       "      <td>0</td>\n",
       "      <td>0</td>\n",
       "      <td>...</td>\n",
       "      <td>0</td>\n",
       "      <td>0</td>\n",
       "      <td>0</td>\n",
       "      <td>0</td>\n",
       "      <td>0</td>\n",
       "      <td>0</td>\n",
       "      <td>0</td>\n",
       "      <td>0</td>\n",
       "      <td>0</td>\n",
       "      <td>0</td>\n",
       "    </tr>\n",
       "    <tr>\n",
       "      <th>41999</th>\n",
       "      <td>9</td>\n",
       "      <td>0</td>\n",
       "      <td>0</td>\n",
       "      <td>0</td>\n",
       "      <td>0</td>\n",
       "      <td>0</td>\n",
       "      <td>0</td>\n",
       "      <td>0</td>\n",
       "      <td>0</td>\n",
       "      <td>0</td>\n",
       "      <td>...</td>\n",
       "      <td>0</td>\n",
       "      <td>0</td>\n",
       "      <td>0</td>\n",
       "      <td>0</td>\n",
       "      <td>0</td>\n",
       "      <td>0</td>\n",
       "      <td>0</td>\n",
       "      <td>0</td>\n",
       "      <td>0</td>\n",
       "      <td>0</td>\n",
       "    </tr>\n",
       "  </tbody>\n",
       "</table>\n",
       "<p>42000 rows × 785 columns</p>\n",
       "</div>"
      ],
      "text/plain": [
       "       label  pixel0  pixel1  pixel2  pixel3  pixel4  pixel5  pixel6  pixel7  \\\n",
       "0          1       0       0       0       0       0       0       0       0   \n",
       "1          0       0       0       0       0       0       0       0       0   \n",
       "2          1       0       0       0       0       0       0       0       0   \n",
       "3          4       0       0       0       0       0       0       0       0   \n",
       "4          0       0       0       0       0       0       0       0       0   \n",
       "...      ...     ...     ...     ...     ...     ...     ...     ...     ...   \n",
       "41995      0       0       0       0       0       0       0       0       0   \n",
       "41996      1       0       0       0       0       0       0       0       0   \n",
       "41997      7       0       0       0       0       0       0       0       0   \n",
       "41998      6       0       0       0       0       0       0       0       0   \n",
       "41999      9       0       0       0       0       0       0       0       0   \n",
       "\n",
       "       pixel8  ...  pixel774  pixel775  pixel776  pixel777  pixel778  \\\n",
       "0           0  ...         0         0         0         0         0   \n",
       "1           0  ...         0         0         0         0         0   \n",
       "2           0  ...         0         0         0         0         0   \n",
       "3           0  ...         0         0         0         0         0   \n",
       "4           0  ...         0         0         0         0         0   \n",
       "...       ...  ...       ...       ...       ...       ...       ...   \n",
       "41995       0  ...         0         0         0         0         0   \n",
       "41996       0  ...         0         0         0         0         0   \n",
       "41997       0  ...         0         0         0         0         0   \n",
       "41998       0  ...         0         0         0         0         0   \n",
       "41999       0  ...         0         0         0         0         0   \n",
       "\n",
       "       pixel779  pixel780  pixel781  pixel782  pixel783  \n",
       "0             0         0         0         0         0  \n",
       "1             0         0         0         0         0  \n",
       "2             0         0         0         0         0  \n",
       "3             0         0         0         0         0  \n",
       "4             0         0         0         0         0  \n",
       "...         ...       ...       ...       ...       ...  \n",
       "41995         0         0         0         0         0  \n",
       "41996         0         0         0         0         0  \n",
       "41997         0         0         0         0         0  \n",
       "41998         0         0         0         0         0  \n",
       "41999         0         0         0         0         0  \n",
       "\n",
       "[42000 rows x 785 columns]"
      ]
     },
     "execution_count": 271,
     "metadata": {},
     "output_type": "execute_result"
    }
   ],
   "source": [
    "df=pd.read_csv(\"C:\\\\Users\\\\lenovo\\\\Downloads\\\\train.csv (1)\\\\train.csv\")\n",
    "df"
   ]
  },
  {
   "cell_type": "markdown",
   "id": "e0f28705-3087-4615-bfee-f8bcb4e2365b",
   "metadata": {},
   "source": [
    "* ***In our dataset, we have a total of 785 columns. One of these columns is the label column, which contains the target variable (Y). The remaining 784 columns are the features, which represent the pixel values of a 28x28 image.***\r\n",
    "* ***Each row in our dataset represents one image. The 784 feature columns together form the pixel values of the image. By reshaping these 784 values into a 28x28 grid, we can reconstruct the original image.***"
   ]
  },
  {
   "cell_type": "code",
   "execution_count": 272,
   "id": "7a00be8f-c638-4da1-835c-afb88ccb7613",
   "metadata": {},
   "outputs": [
    {
     "data": {
      "text/plain": [
       "label       0\n",
       "pixel0      0\n",
       "pixel1      0\n",
       "pixel2      0\n",
       "pixel3      0\n",
       "           ..\n",
       "pixel779    0\n",
       "pixel780    0\n",
       "pixel781    0\n",
       "pixel782    0\n",
       "pixel783    0\n",
       "Length: 785, dtype: int64"
      ]
     },
     "execution_count": 272,
     "metadata": {},
     "output_type": "execute_result"
    }
   ],
   "source": [
    "df.isnull().sum()"
   ]
  },
  {
   "cell_type": "code",
   "execution_count": 273,
   "id": "e3cf2e85-8b83-4693-95ef-de37f55b130e",
   "metadata": {},
   "outputs": [
    {
     "data": {
      "text/plain": [
       "label\n",
       "1    4684\n",
       "7    4401\n",
       "3    4351\n",
       "9    4188\n",
       "2    4177\n",
       "6    4137\n",
       "0    4132\n",
       "4    4072\n",
       "8    4063\n",
       "5    3795\n",
       "Name: count, dtype: int64"
      ]
     },
     "execution_count": 273,
     "metadata": {},
     "output_type": "execute_result"
    }
   ],
   "source": [
    "df['label'].value_counts()"
   ]
  },
  {
   "cell_type": "markdown",
   "id": "545350fe-8b82-458c-82a2-1ce04013dd8b",
   "metadata": {},
   "source": [
    "* ***Our dataset does not contain any missing values, and the distribution of data across different categories or classes is fairly balanced.***"
   ]
  },
  {
   "cell_type": "code",
   "execution_count": 274,
   "id": "6305ca43-1452-4870-8c83-5b4e656fae62",
   "metadata": {},
   "outputs": [],
   "source": [
    "x=df.iloc[:,1:].values\n",
    "y=df.iloc[:,0].values"
   ]
  },
  {
   "cell_type": "code",
   "execution_count": 275,
   "id": "ef8bc5d0-705a-4206-8683-0e7945d6905f",
   "metadata": {},
   "outputs": [
    {
     "data": {
      "text/plain": [
       "255"
      ]
     },
     "execution_count": 275,
     "metadata": {},
     "output_type": "execute_result"
    }
   ],
   "source": [
    "max(x[2])"
   ]
  },
  {
   "cell_type": "code",
   "execution_count": 276,
   "id": "4918fb45-7ae8-41e3-8d7a-20efb3c52a26",
   "metadata": {},
   "outputs": [
    {
     "data": {
      "text/plain": [
       "1.0"
      ]
     },
     "execution_count": 276,
     "metadata": {},
     "output_type": "execute_result"
    }
   ],
   "source": [
    "x=x/255\n",
    "max(x[1])"
   ]
  },
  {
   "cell_type": "markdown",
   "id": "a7f25552-80f1-418d-89d9-fd2c8bab6c7b",
   "metadata": {},
   "source": [
    "* ***What I've done is rescale the pixel values to fall within the range of 0 to 1. This normalization process involves dividing each pixel value by the maximum pixel value (typically 255 for grayscale images). By scaling the pixel values to this range, it helps improve the efficiency of the model during training.***"
   ]
  },
  {
   "cell_type": "code",
   "execution_count": null,
   "id": "998426bf-953d-48e3-9edc-60df432cdb27",
   "metadata": {},
   "outputs": [],
   "source": []
  },
  {
   "cell_type": "code",
   "execution_count": null,
   "id": "daf0867a-2cb4-4495-b397-b45a61c7afce",
   "metadata": {},
   "outputs": [],
   "source": []
  },
  {
   "cell_type": "markdown",
   "id": "78a4ea28-17e9-40e4-99d8-a285b952b160",
   "metadata": {},
   "source": [
    "### ***Now, let's visualize how the handwritten images look.***\n",
    "* ***Since we have a large number of images, I'll randomly select 50 images and plot them.***"
   ]
  },
  {
   "cell_type": "code",
   "execution_count": 277,
   "id": "eaee38c7-3f1d-4422-9ca8-8cd6ac2bb29e",
   "metadata": {},
   "outputs": [],
   "source": [
    "import matplotlib.pyplot as plt"
   ]
  },
  {
   "cell_type": "markdown",
   "id": "5b953e98-43ef-424f-aa65-b0a092b594ee",
   "metadata": {},
   "source": [
    "Let's Visualize random 50 values"
   ]
  },
  {
   "cell_type": "code",
   "execution_count": null,
   "id": "e250f1b5-b6f7-4605-b0b2-4bf1bc8e8bd6",
   "metadata": {},
   "outputs": [],
   "source": []
  },
  {
   "cell_type": "code",
   "execution_count": 278,
   "id": "0f72d33f-9bfe-470f-a5c8-b56a13de4ed7",
   "metadata": {},
   "outputs": [],
   "source": [
    "sample=df.sample(50)"
   ]
  },
  {
   "cell_type": "code",
   "execution_count": 279,
   "id": "dfa6ea75-9f11-4451-a236-da7ac477e8bb",
   "metadata": {},
   "outputs": [
    {
     "data": {
      "text/plain": [
       "array([[0, 0, 0, ..., 0, 0, 0],\n",
       "       [0, 0, 0, ..., 0, 0, 0],\n",
       "       [0, 0, 0, ..., 0, 0, 0],\n",
       "       ...,\n",
       "       [0, 0, 0, ..., 0, 0, 0],\n",
       "       [0, 0, 0, ..., 0, 0, 0],\n",
       "       [0, 0, 0, ..., 0, 0, 0]], dtype=int64)"
      ]
     },
     "execution_count": 279,
     "metadata": {},
     "output_type": "execute_result"
    }
   ],
   "source": [
    "sample=df.sample(50)\n",
    "pixel_val=sample.iloc[:,1:].values\n",
    "pixel_val\n"
   ]
  },
  {
   "cell_type": "code",
   "execution_count": 280,
   "id": "a256fa4e-aa11-4b1a-9d4c-17093e5088d4",
   "metadata": {},
   "outputs": [
    {
     "data": {
      "text/plain": [
       "array([7, 8, 7, 3, 1, 9, 6, 0, 3, 0, 9, 4, 1, 9, 2, 0, 8, 8, 2, 1, 6, 3,\n",
       "       0, 5, 0, 5, 1, 0, 8, 4, 5, 7, 7, 1, 8, 3, 1, 1, 6, 8, 2, 3, 1, 8,\n",
       "       6, 8, 4, 3, 2, 1], dtype=int64)"
      ]
     },
     "execution_count": 280,
     "metadata": {},
     "output_type": "execute_result"
    }
   ],
   "source": [
    "actual_digits=sample.iloc[:,0].values\n",
    "actual_digits"
   ]
  },
  {
   "cell_type": "code",
   "execution_count": 281,
   "id": "d6567a51-f501-42c1-8a93-3b42216060c1",
   "metadata": {},
   "outputs": [
    {
     "data": {
      "image/png": "[encoded data removed]",
      "text/plain": [
       "<Figure size 1500x2500 with 50 Axes>"
      ]
     },
     "metadata": {},
     "output_type": "display_data"
    }
   ],
   "source": [
    "fig,axes=plt.subplots(10,5,figsize=(15,25))\n",
    "for i in range(50):\n",
    "    row=i//5\n",
    "    col=i%5\n",
    "    axes[row,col].imshow(pixel_val[i].reshape(28,28))\n",
    "    axes[row,col].set_title(actual_digits[i])\n",
    "    axes[row, col].axis('off')\n",
    "    \n",
    "    \n",
    "    "
   ]
  },
  {
   "cell_type": "code",
   "execution_count": 282,
   "id": "21d1fdf4-51b0-4839-82be-9c0aeb487e48",
   "metadata": {},
   "outputs": [],
   "source": [
    "from sklearn.model_selection import train_test_split\n"
   ]
  },
  {
   "cell_type": "code",
   "execution_count": 283,
   "id": "31913541-ab88-4f9d-9cea-7c16c516cb92",
   "metadata": {},
   "outputs": [],
   "source": [
    "x_train,x_test,y_train,y_test=train_test_split(x,y,random_state=42,test_size=0.2)"
   ]
  },
  {
   "cell_type": "code",
   "execution_count": 284,
   "id": "a6388634-5bdd-4a4f-acf3-5c54dbc2ce20",
   "metadata": {},
   "outputs": [
    {
     "data": {
      "text/plain": [
       "(33600, 784)"
      ]
     },
     "execution_count": 284,
     "metadata": {},
     "output_type": "execute_result"
    }
   ],
   "source": [
    "x_train.shape"
   ]
  },
  {
   "cell_type": "code",
   "execution_count": 285,
   "id": "6fe3da9b-a740-4b72-84e9-a7c74d6f3ad3",
   "metadata": {},
   "outputs": [
    {
     "data": {
      "text/plain": [
       "(33600,)"
      ]
     },
     "execution_count": 285,
     "metadata": {},
     "output_type": "execute_result"
    }
   ],
   "source": [
    "y_train.shape"
   ]
  },
  {
   "cell_type": "code",
   "execution_count": null,
   "id": "e1638b88-97eb-49ae-a4cd-fd29c8d8cfd3",
   "metadata": {},
   "outputs": [],
   "source": []
  },
  {
   "cell_type": "code",
   "execution_count": 286,
   "id": "28e90d96-eb04-46d7-9cf7-5da079de6a31",
   "metadata": {},
   "outputs": [],
   "source": [
    "import tensorflow\n",
    "from tensorflow import keras\n",
    "from tensorflow.keras import Sequential\n",
    "from tensorflow.keras.layers import Dense"
   ]
  },
  {
   "cell_type": "code",
   "execution_count": 287,
   "id": "27edce8a-872e-4a09-ba02-2a564e4a90ca",
   "metadata": {},
   "outputs": [],
   "source": [
    "model=Sequential()\n",
    "model.add(Dense(75,activation='relu',input_dim=x_train.shape[1]))\n",
    "model.add(Dense(50,activation='relu'))\n",
    "model.add(Dense(20,activation='relu'))\n",
    "model.add(Dense(10,activation='softmax'))"
   ]
  },
  {
   "cell_type": "code",
   "execution_count": 288,
   "id": "da6d1b3d-81e9-4a00-be6c-3d7ea242e283",
   "metadata": {},
   "outputs": [],
   "source": [
    "model.compile(loss='sparse_categorical_crossentropy',optimizer=\"Adam\",metrics=['accuracy'])"
   ]
  },
  {
   "cell_type": "code",
   "execution_count": 289,
   "id": "3e3a7d91-4ddb-4379-a1cf-c7954f10c9cf",
   "metadata": {},
   "outputs": [
    {
     "name": "stdout",
     "output_type": "stream",
     "text": [
      "Model: \"sequential_30\"\n",
      "_________________________________________________________________\n",
      " Layer (type)                Output Shape              Param #   \n",
      "=================================================================\n",
      " dense_109 (Dense)           (None, 75)                58875     \n",
      "                                                                 \n",
      " dense_110 (Dense)           (None, 50)                3800      \n",
      "                                                                 \n",
      " dense_111 (Dense)           (None, 20)                1020      \n",
      "                                                                 \n",
      " dense_112 (Dense)           (None, 10)                210       \n",
      "                                                                 \n",
      "=================================================================\n",
      "Total params: 63905 (249.63 KB)\n",
      "Trainable params: 63905 (249.63 KB)\n",
      "Non-trainable params: 0 (0.00 Byte)\n",
      "_________________________________________________________________\n"
     ]
    }
   ],
   "source": [
    "model.summary()"
   ]
  },
  {
   "cell_type": "code",
   "execution_count": 290,
   "id": "b36489cc-a4d9-473f-bdfd-e56d0cbcd6fd",
   "metadata": {},
   "outputs": [
    {
     "name": "stdout",
     "output_type": "stream",
     "text": [
      "Epoch 1/15\n",
      "840/840 [==============================] - 3s 3ms/step - loss: 0.4473 - accuracy: 0.8620 - val_loss: 0.2516 - val_accuracy: 0.9251\n",
      "Epoch 2/15\n",
      "840/840 [==============================] - 2s 2ms/step - loss: 0.1749 - accuracy: 0.9478 - val_loss: 0.1630 - val_accuracy: 0.9534\n",
      "Epoch 3/15\n",
      "840/840 [==============================] - 2s 2ms/step - loss: 0.1230 - accuracy: 0.9628 - val_loss: 0.1371 - val_accuracy: 0.9607\n",
      "Epoch 4/15\n",
      "840/840 [==============================] - 2s 3ms/step - loss: 0.0962 - accuracy: 0.9708 - val_loss: 0.1191 - val_accuracy: 0.9676\n",
      "Epoch 5/15\n",
      "840/840 [==============================] - 2s 2ms/step - loss: 0.0762 - accuracy: 0.9763 - val_loss: 0.1209 - val_accuracy: 0.9667\n",
      "Epoch 6/15\n",
      "840/840 [==============================] - 2s 3ms/step - loss: 0.0627 - accuracy: 0.9805 - val_loss: 0.1310 - val_accuracy: 0.9643\n",
      "Epoch 7/15\n",
      "840/840 [==============================] - 2s 2ms/step - loss: 0.0530 - accuracy: 0.9833 - val_loss: 0.1268 - val_accuracy: 0.9677\n",
      "Epoch 8/15\n",
      "840/840 [==============================] - 2s 2ms/step - loss: 0.0459 - accuracy: 0.9853 - val_loss: 0.1331 - val_accuracy: 0.9667\n",
      "Epoch 9/15\n",
      "840/840 [==============================] - 2s 2ms/step - loss: 0.0338 - accuracy: 0.9890 - val_loss: 0.1551 - val_accuracy: 0.9644\n",
      "Epoch 10/15\n",
      "840/840 [==============================] - 2s 2ms/step - loss: 0.0367 - accuracy: 0.9870 - val_loss: 0.1710 - val_accuracy: 0.9574\n",
      "Epoch 11/15\n",
      "840/840 [==============================] - 2s 2ms/step - loss: 0.0257 - accuracy: 0.9916 - val_loss: 0.1590 - val_accuracy: 0.9643\n",
      "Epoch 12/15\n",
      "840/840 [==============================] - 2s 2ms/step - loss: 0.0186 - accuracy: 0.9942 - val_loss: 0.1551 - val_accuracy: 0.9643\n",
      "Epoch 13/15\n",
      "840/840 [==============================] - 2s 2ms/step - loss: 0.0269 - accuracy: 0.9912 - val_loss: 0.1487 - val_accuracy: 0.9711\n",
      "Epoch 14/15\n",
      "840/840 [==============================] - 2s 2ms/step - loss: 0.0207 - accuracy: 0.9929 - val_loss: 0.1713 - val_accuracy: 0.9677\n",
      "Epoch 15/15\n",
      "840/840 [==============================] - 2s 2ms/step - loss: 0.0173 - accuracy: 0.9943 - val_loss: 0.1714 - val_accuracy: 0.9643\n"
     ]
    }
   ],
   "source": [
    "history=model.fit(x_train,y_train,epochs=15,batch_size=32,validation_split=0.2)"
   ]
  },
  {
   "cell_type": "code",
   "execution_count": 291,
   "id": "4f0f87a7-e1a7-432c-8d64-ce7f4746bd21",
   "metadata": {},
   "outputs": [
    {
     "data": {
      "text/plain": [
       "{'loss': [0.44734668731689453,\n",
       "  0.1748931109905243,\n",
       "  0.12304949015378952,\n",
       "  0.09622485935688019,\n",
       "  0.07616683095693588,\n",
       "  0.06269244104623795,\n",
       "  0.05296175181865692,\n",
       "  0.04594104737043381,\n",
       "  0.03376004844903946,\n",
       "  0.03665954992175102,\n",
       "  0.02572639472782612,\n",
       "  0.018626123666763306,\n",
       "  0.026946892961859703,\n",
       "  0.020686762407422066,\n",
       "  0.017324207350611687],\n",
       " 'accuracy': [0.8619791865348816,\n",
       "  0.9478050470352173,\n",
       "  0.9627976417541504,\n",
       "  0.9708333611488342,\n",
       "  0.9763020873069763,\n",
       "  0.9805431365966797,\n",
       "  0.9833333492279053,\n",
       "  0.9852678775787354,\n",
       "  0.9890252947807312,\n",
       "  0.9870163798332214,\n",
       "  0.991592288017273,\n",
       "  0.9941964149475098,\n",
       "  0.9911830425262451,\n",
       "  0.9928571581840515,\n",
       "  0.9943452477455139],\n",
       " 'val_loss': [0.2515621781349182,\n",
       "  0.16303712129592896,\n",
       "  0.13705295324325562,\n",
       "  0.1191115528345108,\n",
       "  0.12085658311843872,\n",
       "  0.13095791637897491,\n",
       "  0.12676887214183807,\n",
       "  0.13307882845401764,\n",
       "  0.15505026280879974,\n",
       "  0.17102766036987305,\n",
       "  0.15902099013328552,\n",
       "  0.1551102250814438,\n",
       "  0.1486944854259491,\n",
       "  0.1713264137506485,\n",
       "  0.17139951884746552],\n",
       " 'val_accuracy': [0.9251487851142883,\n",
       "  0.9534226059913635,\n",
       "  0.9607142806053162,\n",
       "  0.9675595164299011,\n",
       "  0.9666666388511658,\n",
       "  0.9642857313156128,\n",
       "  0.9677083492279053,\n",
       "  0.9666666388511658,\n",
       "  0.9644345045089722,\n",
       "  0.9574404954910278,\n",
       "  0.9642857313156128,\n",
       "  0.9642857313156128,\n",
       "  0.9711309671401978,\n",
       "  0.9677083492279053,\n",
       "  0.9642857313156128]}"
      ]
     },
     "execution_count": 291,
     "metadata": {},
     "output_type": "execute_result"
    }
   ],
   "source": [
    "history.history"
   ]
  },
  {
   "cell_type": "code",
   "execution_count": 292,
   "id": "422868c9-4c59-4ac6-9e6f-cb5c28092a8d",
   "metadata": {},
   "outputs": [
    {
     "data": {
      "image/png": "[encoded data removed]",
      "text/plain": [
       "<Figure size 640x480 with 1 Axes>"
      ]
     },
     "metadata": {},
     "output_type": "display_data"
    }
   ],
   "source": [
    "plt.plot(history.history['loss'],label='loss')\n",
    "plt.plot(history.history['accuracy'],label='accuarcy')\n",
    "plt.legend()\n",
    "plt.show()"
   ]
  },
  {
   "cell_type": "code",
   "execution_count": 293,
   "id": "96af9ff8-d1cb-421b-9bde-0e9611188ec9",
   "metadata": {},
   "outputs": [
    {
     "data": {
      "image/png": "[encoded data removed]",
      "text/plain": [
       "<Figure size 640x480 with 1 Axes>"
      ]
     },
     "metadata": {},
     "output_type": "display_data"
    }
   ],
   "source": [
    "plt.plot(history.history['val_loss'],label='val_loss')\n",
    "plt.plot(history.history['val_accuracy'],label='val_accuarcy')\n",
    "plt.legend()\n",
    "plt.show()"
   ]
  },
  {
   "cell_type": "code",
   "execution_count": 294,
   "id": "3d0ae4e9-5a31-41b1-a232-7bd367e7be81",
   "metadata": {},
   "outputs": [
    {
     "name": "stdout",
     "output_type": "stream",
     "text": [
      "263/263 [==============================] - 0s 1ms/step\n"
     ]
    }
   ],
   "source": [
    "prediction=model.predict(x_test)\n"
   ]
  },
  {
   "cell_type": "code",
   "execution_count": 295,
   "id": "bd4ee119-2a7e-47c0-94b2-b325126995e0",
   "metadata": {},
   "outputs": [
    {
     "data": {
      "text/plain": [
       "array([8, 1, 9, ..., 3, 0, 9], dtype=int64)"
      ]
     },
     "execution_count": 295,
     "metadata": {},
     "output_type": "execute_result"
    }
   ],
   "source": [
    "y_pred=prediction.argmax(axis=1)\n",
    "y_pred"
   ]
  },
  {
   "cell_type": "code",
   "execution_count": null,
   "id": "c99efa1e-9746-4f13-b25a-690865b252b2",
   "metadata": {},
   "outputs": [],
   "source": []
  },
  {
   "cell_type": "code",
   "execution_count": 296,
   "id": "d8ca3e42-09f3-4d8f-8766-e2e049000e92",
   "metadata": {},
   "outputs": [
    {
     "name": "stdout",
     "output_type": "stream",
     "text": [
      "263/263 [==============================] - 1s 2ms/step - loss: 0.1800 - accuracy: 0.9598\n"
     ]
    },
    {
     "data": {
      "text/plain": [
       "[0.17996686697006226, 0.959761917591095]"
      ]
     },
     "execution_count": 296,
     "metadata": {},
     "output_type": "execute_result"
    }
   ],
   "source": [
    "model.evaluate(x_test,y_test)"
   ]
  },
  {
   "cell_type": "code",
   "execution_count": null,
   "id": "05f124cc-628c-48a2-9668-485238a36d3f",
   "metadata": {},
   "outputs": [],
   "source": []
  },
  {
   "cell_type": "code",
   "execution_count": null,
   "id": "d6628491-5854-46c3-86cf-83280c924491",
   "metadata": {},
   "outputs": [],
   "source": []
  },
  {
   "cell_type": "code",
   "execution_count": null,
   "id": "86062514-b919-441c-94d4-28494ae8a15c",
   "metadata": {},
   "outputs": [],
   "source": []
  }
 ],
 "metadata": {
  "kernelspec": {
   "display_name": "Python 3 (ipykernel)",
   "language": "python",
   "name": "python3"
  },
  "language_info": {
   "codemirror_mode": {
    "name": "ipython",
    "version": 3
   },
   "file_extension": ".py",
   "mimetype": "text/x-python",
   "name": "python",
   "nbconvert_exporter": "python",
   "pygments_lexer": "ipython3",
   "version": "3.10.2"
  }
 },
 "nbformat": 4,
 "nbformat_minor": 5
}
